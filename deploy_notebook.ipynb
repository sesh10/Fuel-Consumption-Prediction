{
  "nbformat": 4,
  "nbformat_minor": 0,
  "metadata": {
    "colab": {
      "name": "deploy.ipynb",
      "provenance": [],
      "collapsed_sections": []
    },
    "kernelspec": {
      "name": "python3",
      "display_name": "Python 3"
    }
  },
  "cells": [
    {
      "cell_type": "code",
      "metadata": {
        "id": "W0JDgNrW0MN6",
        "colab_type": "code",
        "colab": {
          "base_uri": "https://localhost:8080/",
          "height": 202
        },
        "outputId": "6d04f719-d272-4e31-a327-adb5dda5a593"
      },
      "source": [
        "!wget \"http://archive.ics.uci.edu/ml/machine-learning-databases/auto-mpg/auto-mpg.data\""
      ],
      "execution_count": 1,
      "outputs": [
        {
          "output_type": "stream",
          "text": [
            "--2020-08-20 11:12:02--  http://archive.ics.uci.edu/ml/machine-learning-databases/auto-mpg/auto-mpg.data\n",
            "Resolving archive.ics.uci.edu (archive.ics.uci.edu)... 128.195.10.252\n",
            "Connecting to archive.ics.uci.edu (archive.ics.uci.edu)|128.195.10.252|:80... connected.\n",
            "HTTP request sent, awaiting response... 200 OK\n",
            "Length: 30286 (30K) [application/x-httpd-php]\n",
            "Saving to: ‘auto-mpg.data.2’\n",
            "\n",
            "\rauto-mpg.data.2       0%[                    ]       0  --.-KB/s               \rauto-mpg.data.2     100%[===================>]  29.58K   197KB/s    in 0.2s    \n",
            "\n",
            "2020-08-20 11:12:03 (197 KB/s) - ‘auto-mpg.data.2’ saved [30286/30286]\n",
            "\n"
          ],
          "name": "stdout"
        }
      ]
    },
    {
      "cell_type": "code",
      "metadata": {
        "id": "OWSVRmeT0Ts1",
        "colab_type": "code",
        "colab": {
          "base_uri": "https://localhost:8080/",
          "height": 70
        },
        "outputId": "6197e0e0-78da-469f-ef94-8434bef80620"
      },
      "source": [
        "import numpy as np\n",
        "import pandas as pd\n",
        "import matplotlib.pyplot as plt\n",
        "import seaborn as sns\n",
        "from sklearn.pipeline import Pipeline\n",
        "from sklearn.preprocessing import StandardScaler\n",
        "from sklearn.model_selection import StratifiedShuffleSplit\n",
        "from sklearn.compose import ColumnTransformer\n",
        "from sklearn.preprocessing import OneHotEncoder\n",
        "from sklearn.impute import SimpleImputer\n",
        "from sklearn.base import BaseEstimator, TransformerMixin\n",
        "from sklearn.tree import DecisionTreeRegressor\n",
        "from sklearn.linear_model import LinearRegression\n",
        "from sklearn.metrics import mean_squared_error\n",
        "from sklearn.model_selection import cross_val_score\n",
        "from sklearn.ensemble import RandomForestRegressor\n",
        "from sklearn.model_selection import GridSearchCV"
      ],
      "execution_count": 2,
      "outputs": [
        {
          "output_type": "stream",
          "text": [
            "/usr/local/lib/python3.6/dist-packages/statsmodels/tools/_testing.py:19: FutureWarning: pandas.util.testing is deprecated. Use the functions in the public API at pandas.testing instead.\n",
            "  import pandas.util.testing as tm\n"
          ],
          "name": "stderr"
        }
      ]
    },
    {
      "cell_type": "code",
      "metadata": {
        "id": "XauYPFW-0faY",
        "colab_type": "code",
        "colab": {}
      },
      "source": [
        "cols = ['MPG','Cylinders','Displacement','Horsepower','Weight',\n",
        "                'Acceleration', 'Model Year', 'Origin']\n",
        "\n",
        "df = pd.read_csv('./auto-mpg.data', names=cols, na_values = \"?\",\n",
        "                comment = '\\t',\n",
        "                sep= \" \",\n",
        "                skipinitialspace=True)\n",
        "\n",
        "data = df.copy()"
      ],
      "execution_count": 3,
      "outputs": []
    },
    {
      "cell_type": "code",
      "metadata": {
        "id": "xzN571AV0kcT",
        "colab_type": "code",
        "colab": {
          "base_uri": "https://localhost:8080/",
          "height": 402
        },
        "outputId": "79e3898b-a15c-4e9e-b767-bd56615fb624"
      },
      "source": [
        "data"
      ],
      "execution_count": 4,
      "outputs": [
        {
          "output_type": "execute_result",
          "data": {
            "text/html": [
              "<div>\n",
              "<style scoped>\n",
              "    .dataframe tbody tr th:only-of-type {\n",
              "        vertical-align: middle;\n",
              "    }\n",
              "\n",
              "    .dataframe tbody tr th {\n",
              "        vertical-align: top;\n",
              "    }\n",
              "\n",
              "    .dataframe thead th {\n",
              "        text-align: right;\n",
              "    }\n",
              "</style>\n",
              "<table border=\"1\" class=\"dataframe\">\n",
              "  <thead>\n",
              "    <tr style=\"text-align: right;\">\n",
              "      <th></th>\n",
              "      <th>MPG</th>\n",
              "      <th>Cylinders</th>\n",
              "      <th>Displacement</th>\n",
              "      <th>Horsepower</th>\n",
              "      <th>Weight</th>\n",
              "      <th>Acceleration</th>\n",
              "      <th>Model Year</th>\n",
              "      <th>Origin</th>\n",
              "    </tr>\n",
              "  </thead>\n",
              "  <tbody>\n",
              "    <tr>\n",
              "      <th>0</th>\n",
              "      <td>18.0</td>\n",
              "      <td>8</td>\n",
              "      <td>307.0</td>\n",
              "      <td>130.0</td>\n",
              "      <td>3504.0</td>\n",
              "      <td>12.0</td>\n",
              "      <td>70</td>\n",
              "      <td>1</td>\n",
              "    </tr>\n",
              "    <tr>\n",
              "      <th>1</th>\n",
              "      <td>15.0</td>\n",
              "      <td>8</td>\n",
              "      <td>350.0</td>\n",
              "      <td>165.0</td>\n",
              "      <td>3693.0</td>\n",
              "      <td>11.5</td>\n",
              "      <td>70</td>\n",
              "      <td>1</td>\n",
              "    </tr>\n",
              "    <tr>\n",
              "      <th>2</th>\n",
              "      <td>18.0</td>\n",
              "      <td>8</td>\n",
              "      <td>318.0</td>\n",
              "      <td>150.0</td>\n",
              "      <td>3436.0</td>\n",
              "      <td>11.0</td>\n",
              "      <td>70</td>\n",
              "      <td>1</td>\n",
              "    </tr>\n",
              "    <tr>\n",
              "      <th>3</th>\n",
              "      <td>16.0</td>\n",
              "      <td>8</td>\n",
              "      <td>304.0</td>\n",
              "      <td>150.0</td>\n",
              "      <td>3433.0</td>\n",
              "      <td>12.0</td>\n",
              "      <td>70</td>\n",
              "      <td>1</td>\n",
              "    </tr>\n",
              "    <tr>\n",
              "      <th>4</th>\n",
              "      <td>17.0</td>\n",
              "      <td>8</td>\n",
              "      <td>302.0</td>\n",
              "      <td>140.0</td>\n",
              "      <td>3449.0</td>\n",
              "      <td>10.5</td>\n",
              "      <td>70</td>\n",
              "      <td>1</td>\n",
              "    </tr>\n",
              "    <tr>\n",
              "      <th>...</th>\n",
              "      <td>...</td>\n",
              "      <td>...</td>\n",
              "      <td>...</td>\n",
              "      <td>...</td>\n",
              "      <td>...</td>\n",
              "      <td>...</td>\n",
              "      <td>...</td>\n",
              "      <td>...</td>\n",
              "    </tr>\n",
              "    <tr>\n",
              "      <th>393</th>\n",
              "      <td>27.0</td>\n",
              "      <td>4</td>\n",
              "      <td>140.0</td>\n",
              "      <td>86.0</td>\n",
              "      <td>2790.0</td>\n",
              "      <td>15.6</td>\n",
              "      <td>82</td>\n",
              "      <td>1</td>\n",
              "    </tr>\n",
              "    <tr>\n",
              "      <th>394</th>\n",
              "      <td>44.0</td>\n",
              "      <td>4</td>\n",
              "      <td>97.0</td>\n",
              "      <td>52.0</td>\n",
              "      <td>2130.0</td>\n",
              "      <td>24.6</td>\n",
              "      <td>82</td>\n",
              "      <td>2</td>\n",
              "    </tr>\n",
              "    <tr>\n",
              "      <th>395</th>\n",
              "      <td>32.0</td>\n",
              "      <td>4</td>\n",
              "      <td>135.0</td>\n",
              "      <td>84.0</td>\n",
              "      <td>2295.0</td>\n",
              "      <td>11.6</td>\n",
              "      <td>82</td>\n",
              "      <td>1</td>\n",
              "    </tr>\n",
              "    <tr>\n",
              "      <th>396</th>\n",
              "      <td>28.0</td>\n",
              "      <td>4</td>\n",
              "      <td>120.0</td>\n",
              "      <td>79.0</td>\n",
              "      <td>2625.0</td>\n",
              "      <td>18.6</td>\n",
              "      <td>82</td>\n",
              "      <td>1</td>\n",
              "    </tr>\n",
              "    <tr>\n",
              "      <th>397</th>\n",
              "      <td>31.0</td>\n",
              "      <td>4</td>\n",
              "      <td>119.0</td>\n",
              "      <td>82.0</td>\n",
              "      <td>2720.0</td>\n",
              "      <td>19.4</td>\n",
              "      <td>82</td>\n",
              "      <td>1</td>\n",
              "    </tr>\n",
              "  </tbody>\n",
              "</table>\n",
              "<p>398 rows × 8 columns</p>\n",
              "</div>"
            ],
            "text/plain": [
              "      MPG  Cylinders  Displacement  ...  Acceleration  Model Year  Origin\n",
              "0    18.0          8         307.0  ...          12.0          70       1\n",
              "1    15.0          8         350.0  ...          11.5          70       1\n",
              "2    18.0          8         318.0  ...          11.0          70       1\n",
              "3    16.0          8         304.0  ...          12.0          70       1\n",
              "4    17.0          8         302.0  ...          10.5          70       1\n",
              "..    ...        ...           ...  ...           ...         ...     ...\n",
              "393  27.0          4         140.0  ...          15.6          82       1\n",
              "394  44.0          4          97.0  ...          24.6          82       2\n",
              "395  32.0          4         135.0  ...          11.6          82       1\n",
              "396  28.0          4         120.0  ...          18.6          82       1\n",
              "397  31.0          4         119.0  ...          19.4          82       1\n",
              "\n",
              "[398 rows x 8 columns]"
            ]
          },
          "metadata": {
            "tags": []
          },
          "execution_count": 4
        }
      ]
    },
    {
      "cell_type": "code",
      "metadata": {
        "id": "FIwT0weg0qKQ",
        "colab_type": "code",
        "colab": {
          "base_uri": "https://localhost:8080/",
          "height": 269
        },
        "outputId": "59ec68f5-6d2a-493b-8cce-baaa50157480"
      },
      "source": [
        "data.info()"
      ],
      "execution_count": 5,
      "outputs": [
        {
          "output_type": "stream",
          "text": [
            "<class 'pandas.core.frame.DataFrame'>\n",
            "RangeIndex: 398 entries, 0 to 397\n",
            "Data columns (total 8 columns):\n",
            " #   Column        Non-Null Count  Dtype  \n",
            "---  ------        --------------  -----  \n",
            " 0   MPG           398 non-null    float64\n",
            " 1   Cylinders     398 non-null    int64  \n",
            " 2   Displacement  398 non-null    float64\n",
            " 3   Horsepower    392 non-null    float64\n",
            " 4   Weight        398 non-null    float64\n",
            " 5   Acceleration  398 non-null    float64\n",
            " 6   Model Year    398 non-null    int64  \n",
            " 7   Origin        398 non-null    int64  \n",
            "dtypes: float64(5), int64(3)\n",
            "memory usage: 25.0 KB\n"
          ],
          "name": "stdout"
        }
      ]
    },
    {
      "cell_type": "code",
      "metadata": {
        "id": "Vu3kxITW0uiL",
        "colab_type": "code",
        "colab": {
          "base_uri": "https://localhost:8080/",
          "height": 168
        },
        "outputId": "749e807f-5dee-4752-c26a-3facb392ffb0"
      },
      "source": [
        "data.isnull().sum()"
      ],
      "execution_count": 6,
      "outputs": [
        {
          "output_type": "execute_result",
          "data": {
            "text/plain": [
              "MPG             0\n",
              "Cylinders       0\n",
              "Displacement    0\n",
              "Horsepower      6\n",
              "Weight          0\n",
              "Acceleration    0\n",
              "Model Year      0\n",
              "Origin          0\n",
              "dtype: int64"
            ]
          },
          "metadata": {
            "tags": []
          },
          "execution_count": 6
        }
      ]
    },
    {
      "cell_type": "code",
      "metadata": {
        "id": "81gtkhF502cV",
        "colab_type": "code",
        "colab": {
          "base_uri": "https://localhost:8080/",
          "height": 296
        },
        "outputId": "fd2edd51-648f-470b-9e3b-560bd87fb45e"
      },
      "source": [
        "data.describe()\n",
        "\n",
        "sns.boxplot(x=data['Horsepower'])"
      ],
      "execution_count": 7,
      "outputs": [
        {
          "output_type": "execute_result",
          "data": {
            "text/plain": [
              "<matplotlib.axes._subplots.AxesSubplot at 0x7f7a71226be0>"
            ]
          },
          "metadata": {
            "tags": []
          },
          "execution_count": 7
        },
        {
          "output_type": "display_data",
          "data": {
            "image/png": "[encoded data removed]",
            "text/plain": [
              "<Figure size 432x288 with 1 Axes>"
            ]
          },
          "metadata": {
            "tags": [],
            "needs_background": "light"
          }
        }
      ]
    },
    {
      "cell_type": "code",
      "metadata": {
        "id": "ydUdr-A907Vs",
        "colab_type": "code",
        "colab": {
          "base_uri": "https://localhost:8080/",
          "height": 269
        },
        "outputId": "b619496e-3eab-4910-a058-ab9ede03733f"
      },
      "source": [
        "median = data['Horsepower'].median()\n",
        "data['Horsepower'] = data['Horsepower'].fillna(median)\n",
        "data.info()"
      ],
      "execution_count": 8,
      "outputs": [
        {
          "output_type": "stream",
          "text": [
            "<class 'pandas.core.frame.DataFrame'>\n",
            "RangeIndex: 398 entries, 0 to 397\n",
            "Data columns (total 8 columns):\n",
            " #   Column        Non-Null Count  Dtype  \n",
            "---  ------        --------------  -----  \n",
            " 0   MPG           398 non-null    float64\n",
            " 1   Cylinders     398 non-null    int64  \n",
            " 2   Displacement  398 non-null    float64\n",
            " 3   Horsepower    398 non-null    float64\n",
            " 4   Weight        398 non-null    float64\n",
            " 5   Acceleration  398 non-null    float64\n",
            " 6   Model Year    398 non-null    int64  \n",
            " 7   Origin        398 non-null    int64  \n",
            "dtypes: float64(5), int64(3)\n",
            "memory usage: 25.0 KB\n"
          ],
          "name": "stdout"
        }
      ]
    },
    {
      "cell_type": "code",
      "metadata": {
        "id": "EWjqmAG70-EJ",
        "colab_type": "code",
        "colab": {
          "base_uri": "https://localhost:8080/",
          "height": 84
        },
        "outputId": "9d26c227-6fe4-4c85-b304-c836fbcf1797"
      },
      "source": [
        "data[\"Cylinders\"].value_counts() / len(data)\n",
        "data['Origin'].value_counts()"
      ],
      "execution_count": 9,
      "outputs": [
        {
          "output_type": "execute_result",
          "data": {
            "text/plain": [
              "1    249\n",
              "3     79\n",
              "2     70\n",
              "Name: Origin, dtype: int64"
            ]
          },
          "metadata": {
            "tags": []
          },
          "execution_count": 9
        }
      ]
    },
    {
      "cell_type": "code",
      "metadata": {
        "id": "1H8kX-Xw1Bwk",
        "colab_type": "code",
        "colab": {
          "base_uri": "https://localhost:8080/",
          "height": 944
        },
        "outputId": "db825a93-e888-4f9a-c062-94242336974d"
      },
      "source": [
        "sns.pairplot(data[[\"MPG\", \"Cylinders\", \"Displacement\", \"Weight\", \"Horsepower\"]], diag_kind=\"kde\")"
      ],
      "execution_count": 10,
      "outputs": [
        {
          "output_type": "execute_result",
          "data": {
            "text/plain": [
              "<seaborn.axisgrid.PairGrid at 0x7f7a815f6320>"
            ]
          },
          "metadata": {
            "tags": []
          },
          "execution_count": 10
        },
        {
          "output_type": "display_data",
          "data": {
            "image/png": "[encoded data removed]",
            "text/plain": [
              "<Figure size 900x900 with 30 Axes>"
            ]
          },
          "metadata": {
            "tags": [],
            "needs_background": "light"
          }
        }
      ]
    },
    {
      "cell_type": "code",
      "metadata": {
        "id": "lQSafbde1HL3",
        "colab_type": "code",
        "colab": {}
      },
      "source": [
        "split = StratifiedShuffleSplit(n_splits=1, test_size=0.2, random_state=42)\n",
        "for train_index, test_index in split.split(data, data[\"Cylinders\"]):\n",
        "    strat_train_set = data.loc[train_index]\n",
        "    strat_test_set = data.loc[test_index]"
      ],
      "execution_count": 11,
      "outputs": []
    },
    {
      "cell_type": "code",
      "metadata": {
        "id": "HtAU_RYh1O8l",
        "colab_type": "code",
        "colab": {
          "base_uri": "https://localhost:8080/",
          "height": 118
        },
        "outputId": "71cb1275-11e3-4d2d-d452-e5be44d4319d"
      },
      "source": [
        "strat_train_set['Cylinders'].value_counts() / len(strat_train_set)"
      ],
      "execution_count": 12,
      "outputs": [
        {
          "output_type": "execute_result",
          "data": {
            "text/plain": [
              "4    0.512579\n",
              "8    0.257862\n",
              "6    0.210692\n",
              "5    0.009434\n",
              "3    0.009434\n",
              "Name: Cylinders, dtype: float64"
            ]
          },
          "metadata": {
            "tags": []
          },
          "execution_count": 12
        }
      ]
    },
    {
      "cell_type": "code",
      "metadata": {
        "id": "ClxOOG8r1RaG",
        "colab_type": "code",
        "colab": {
          "base_uri": "https://localhost:8080/",
          "height": 101
        },
        "outputId": "d81039a4-d284-45b4-f198-af470c0a26e6"
      },
      "source": [
        "strat_test_set[\"Cylinders\"].value_counts() / len(strat_test_set)"
      ],
      "execution_count": 13,
      "outputs": [
        {
          "output_type": "execute_result",
          "data": {
            "text/plain": [
              "4    0.5125\n",
              "8    0.2625\n",
              "6    0.2125\n",
              "3    0.0125\n",
              "Name: Cylinders, dtype: float64"
            ]
          },
          "metadata": {
            "tags": []
          },
          "execution_count": 13
        }
      ]
    },
    {
      "cell_type": "code",
      "metadata": {
        "id": "qbiRm-i9Jhcc",
        "colab_type": "code",
        "colab": {
          "base_uri": "https://localhost:8080/",
          "height": 402
        },
        "outputId": "12a87b38-1059-44eb-cfce-bbfb73cff6e4"
      },
      "source": [
        "data_df = strat_train_set.drop(\"MPG\", axis=1)\n",
        "data_labels = strat_train_set[\"MPG\"].copy()\n",
        "data_df"
      ],
      "execution_count": 14,
      "outputs": [
        {
          "output_type": "execute_result",
          "data": {
            "text/html": [
              "<div>\n",
              "<style scoped>\n",
              "    .dataframe tbody tr th:only-of-type {\n",
              "        vertical-align: middle;\n",
              "    }\n",
              "\n",
              "    .dataframe tbody tr th {\n",
              "        vertical-align: top;\n",
              "    }\n",
              "\n",
              "    .dataframe thead th {\n",
              "        text-align: right;\n",
              "    }\n",
              "</style>\n",
              "<table border=\"1\" class=\"dataframe\">\n",
              "  <thead>\n",
              "    <tr style=\"text-align: right;\">\n",
              "      <th></th>\n",
              "      <th>Cylinders</th>\n",
              "      <th>Displacement</th>\n",
              "      <th>Horsepower</th>\n",
              "      <th>Weight</th>\n",
              "      <th>Acceleration</th>\n",
              "      <th>Model Year</th>\n",
              "      <th>Origin</th>\n",
              "    </tr>\n",
              "  </thead>\n",
              "  <tbody>\n",
              "    <tr>\n",
              "      <th>145</th>\n",
              "      <td>4</td>\n",
              "      <td>83.0</td>\n",
              "      <td>61.0</td>\n",
              "      <td>2003.0</td>\n",
              "      <td>19.0</td>\n",
              "      <td>74</td>\n",
              "      <td>3</td>\n",
              "    </tr>\n",
              "    <tr>\n",
              "      <th>151</th>\n",
              "      <td>4</td>\n",
              "      <td>79.0</td>\n",
              "      <td>67.0</td>\n",
              "      <td>2000.0</td>\n",
              "      <td>16.0</td>\n",
              "      <td>74</td>\n",
              "      <td>2</td>\n",
              "    </tr>\n",
              "    <tr>\n",
              "      <th>388</th>\n",
              "      <td>4</td>\n",
              "      <td>156.0</td>\n",
              "      <td>92.0</td>\n",
              "      <td>2585.0</td>\n",
              "      <td>14.5</td>\n",
              "      <td>82</td>\n",
              "      <td>1</td>\n",
              "    </tr>\n",
              "    <tr>\n",
              "      <th>48</th>\n",
              "      <td>6</td>\n",
              "      <td>250.0</td>\n",
              "      <td>88.0</td>\n",
              "      <td>3139.0</td>\n",
              "      <td>14.5</td>\n",
              "      <td>71</td>\n",
              "      <td>1</td>\n",
              "    </tr>\n",
              "    <tr>\n",
              "      <th>114</th>\n",
              "      <td>4</td>\n",
              "      <td>98.0</td>\n",
              "      <td>90.0</td>\n",
              "      <td>2265.0</td>\n",
              "      <td>15.5</td>\n",
              "      <td>73</td>\n",
              "      <td>2</td>\n",
              "    </tr>\n",
              "    <tr>\n",
              "      <th>...</th>\n",
              "      <td>...</td>\n",
              "      <td>...</td>\n",
              "      <td>...</td>\n",
              "      <td>...</td>\n",
              "      <td>...</td>\n",
              "      <td>...</td>\n",
              "      <td>...</td>\n",
              "    </tr>\n",
              "    <tr>\n",
              "      <th>147</th>\n",
              "      <td>4</td>\n",
              "      <td>90.0</td>\n",
              "      <td>75.0</td>\n",
              "      <td>2108.0</td>\n",
              "      <td>15.5</td>\n",
              "      <td>74</td>\n",
              "      <td>2</td>\n",
              "    </tr>\n",
              "    <tr>\n",
              "      <th>156</th>\n",
              "      <td>8</td>\n",
              "      <td>400.0</td>\n",
              "      <td>170.0</td>\n",
              "      <td>4668.0</td>\n",
              "      <td>11.5</td>\n",
              "      <td>75</td>\n",
              "      <td>1</td>\n",
              "    </tr>\n",
              "    <tr>\n",
              "      <th>395</th>\n",
              "      <td>4</td>\n",
              "      <td>135.0</td>\n",
              "      <td>84.0</td>\n",
              "      <td>2295.0</td>\n",
              "      <td>11.6</td>\n",
              "      <td>82</td>\n",
              "      <td>1</td>\n",
              "    </tr>\n",
              "    <tr>\n",
              "      <th>14</th>\n",
              "      <td>4</td>\n",
              "      <td>113.0</td>\n",
              "      <td>95.0</td>\n",
              "      <td>2372.0</td>\n",
              "      <td>15.0</td>\n",
              "      <td>70</td>\n",
              "      <td>3</td>\n",
              "    </tr>\n",
              "    <tr>\n",
              "      <th>362</th>\n",
              "      <td>6</td>\n",
              "      <td>146.0</td>\n",
              "      <td>120.0</td>\n",
              "      <td>2930.0</td>\n",
              "      <td>13.8</td>\n",
              "      <td>81</td>\n",
              "      <td>3</td>\n",
              "    </tr>\n",
              "  </tbody>\n",
              "</table>\n",
              "<p>318 rows × 7 columns</p>\n",
              "</div>"
            ],
            "text/plain": [
              "     Cylinders  Displacement  Horsepower  ...  Acceleration  Model Year  Origin\n",
              "145          4          83.0        61.0  ...          19.0          74       3\n",
              "151          4          79.0        67.0  ...          16.0          74       2\n",
              "388          4         156.0        92.0  ...          14.5          82       1\n",
              "48           6         250.0        88.0  ...          14.5          71       1\n",
              "114          4          98.0        90.0  ...          15.5          73       2\n",
              "..         ...           ...         ...  ...           ...         ...     ...\n",
              "147          4          90.0        75.0  ...          15.5          74       2\n",
              "156          8         400.0       170.0  ...          11.5          75       1\n",
              "395          4         135.0        84.0  ...          11.6          82       1\n",
              "14           4         113.0        95.0  ...          15.0          70       3\n",
              "362          6         146.0       120.0  ...          13.8          81       3\n",
              "\n",
              "[318 rows x 7 columns]"
            ]
          },
          "metadata": {
            "tags": []
          },
          "execution_count": 14
        }
      ]
    },
    {
      "cell_type": "code",
      "metadata": {
        "id": "SU09EaDT1UDT",
        "colab_type": "code",
        "colab": {
          "base_uri": "https://localhost:8080/",
          "height": 343
        },
        "outputId": "914c4473-ab5b-46b3-bb02-bee95c45b171"
      },
      "source": [
        "data_df['Origin'] = data_df['Origin'].map({1: 'India', 2: 'USA', 3 : 'Germany'})\n",
        "data_df.sample(10)"
      ],
      "execution_count": 15,
      "outputs": [
        {
          "output_type": "execute_result",
          "data": {
            "text/html": [
              "<div>\n",
              "<style scoped>\n",
              "    .dataframe tbody tr th:only-of-type {\n",
              "        vertical-align: middle;\n",
              "    }\n",
              "\n",
              "    .dataframe tbody tr th {\n",
              "        vertical-align: top;\n",
              "    }\n",
              "\n",
              "    .dataframe thead th {\n",
              "        text-align: right;\n",
              "    }\n",
              "</style>\n",
              "<table border=\"1\" class=\"dataframe\">\n",
              "  <thead>\n",
              "    <tr style=\"text-align: right;\">\n",
              "      <th></th>\n",
              "      <th>Cylinders</th>\n",
              "      <th>Displacement</th>\n",
              "      <th>Horsepower</th>\n",
              "      <th>Weight</th>\n",
              "      <th>Acceleration</th>\n",
              "      <th>Model Year</th>\n",
              "      <th>Origin</th>\n",
              "    </tr>\n",
              "  </thead>\n",
              "  <tbody>\n",
              "    <tr>\n",
              "      <th>312</th>\n",
              "      <td>4</td>\n",
              "      <td>86.0</td>\n",
              "      <td>65.0</td>\n",
              "      <td>2019.0</td>\n",
              "      <td>16.4</td>\n",
              "      <td>80</td>\n",
              "      <td>Germany</td>\n",
              "    </tr>\n",
              "    <tr>\n",
              "      <th>242</th>\n",
              "      <td>4</td>\n",
              "      <td>121.0</td>\n",
              "      <td>110.0</td>\n",
              "      <td>2600.0</td>\n",
              "      <td>12.8</td>\n",
              "      <td>77</td>\n",
              "      <td>USA</td>\n",
              "    </tr>\n",
              "    <tr>\n",
              "      <th>154</th>\n",
              "      <td>6</td>\n",
              "      <td>250.0</td>\n",
              "      <td>72.0</td>\n",
              "      <td>3432.0</td>\n",
              "      <td>21.0</td>\n",
              "      <td>75</td>\n",
              "      <td>India</td>\n",
              "    </tr>\n",
              "    <tr>\n",
              "      <th>307</th>\n",
              "      <td>6</td>\n",
              "      <td>173.0</td>\n",
              "      <td>115.0</td>\n",
              "      <td>2700.0</td>\n",
              "      <td>12.9</td>\n",
              "      <td>79</td>\n",
              "      <td>India</td>\n",
              "    </tr>\n",
              "    <tr>\n",
              "      <th>388</th>\n",
              "      <td>4</td>\n",
              "      <td>156.0</td>\n",
              "      <td>92.0</td>\n",
              "      <td>2585.0</td>\n",
              "      <td>14.5</td>\n",
              "      <td>82</td>\n",
              "      <td>India</td>\n",
              "    </tr>\n",
              "    <tr>\n",
              "      <th>360</th>\n",
              "      <td>6</td>\n",
              "      <td>145.0</td>\n",
              "      <td>76.0</td>\n",
              "      <td>3160.0</td>\n",
              "      <td>19.6</td>\n",
              "      <td>81</td>\n",
              "      <td>USA</td>\n",
              "    </tr>\n",
              "    <tr>\n",
              "      <th>227</th>\n",
              "      <td>6</td>\n",
              "      <td>225.0</td>\n",
              "      <td>100.0</td>\n",
              "      <td>3630.0</td>\n",
              "      <td>17.7</td>\n",
              "      <td>77</td>\n",
              "      <td>India</td>\n",
              "    </tr>\n",
              "    <tr>\n",
              "      <th>230</th>\n",
              "      <td>8</td>\n",
              "      <td>350.0</td>\n",
              "      <td>170.0</td>\n",
              "      <td>4165.0</td>\n",
              "      <td>11.4</td>\n",
              "      <td>77</td>\n",
              "      <td>India</td>\n",
              "    </tr>\n",
              "    <tr>\n",
              "      <th>61</th>\n",
              "      <td>4</td>\n",
              "      <td>122.0</td>\n",
              "      <td>86.0</td>\n",
              "      <td>2226.0</td>\n",
              "      <td>16.5</td>\n",
              "      <td>72</td>\n",
              "      <td>India</td>\n",
              "    </tr>\n",
              "    <tr>\n",
              "      <th>226</th>\n",
              "      <td>6</td>\n",
              "      <td>231.0</td>\n",
              "      <td>105.0</td>\n",
              "      <td>3425.0</td>\n",
              "      <td>16.9</td>\n",
              "      <td>77</td>\n",
              "      <td>India</td>\n",
              "    </tr>\n",
              "  </tbody>\n",
              "</table>\n",
              "</div>"
            ],
            "text/plain": [
              "     Cylinders  Displacement  Horsepower  ...  Acceleration  Model Year   Origin\n",
              "312          4          86.0        65.0  ...          16.4          80  Germany\n",
              "242          4         121.0       110.0  ...          12.8          77      USA\n",
              "154          6         250.0        72.0  ...          21.0          75    India\n",
              "307          6         173.0       115.0  ...          12.9          79    India\n",
              "388          4         156.0        92.0  ...          14.5          82    India\n",
              "360          6         145.0        76.0  ...          19.6          81      USA\n",
              "227          6         225.0       100.0  ...          17.7          77    India\n",
              "230          8         350.0       170.0  ...          11.4          77    India\n",
              "61           4         122.0        86.0  ...          16.5          72    India\n",
              "226          6         231.0       105.0  ...          16.9          77    India\n",
              "\n",
              "[10 rows x 7 columns]"
            ]
          },
          "metadata": {
            "tags": []
          },
          "execution_count": 15
        }
      ]
    },
    {
      "cell_type": "code",
      "metadata": {
        "id": "g3HADt_xKgZv",
        "colab_type": "code",
        "colab": {
          "base_uri": "https://localhost:8080/",
          "height": 402
        },
        "outputId": "b1b37186-7f31-4b24-821c-7d96b05f7129"
      },
      "source": [
        "data_cat = data_df[[\"Origin\"]]\n",
        "data_cat"
      ],
      "execution_count": 16,
      "outputs": [
        {
          "output_type": "execute_result",
          "data": {
            "text/html": [
              "<div>\n",
              "<style scoped>\n",
              "    .dataframe tbody tr th:only-of-type {\n",
              "        vertical-align: middle;\n",
              "    }\n",
              "\n",
              "    .dataframe tbody tr th {\n",
              "        vertical-align: top;\n",
              "    }\n",
              "\n",
              "    .dataframe thead th {\n",
              "        text-align: right;\n",
              "    }\n",
              "</style>\n",
              "<table border=\"1\" class=\"dataframe\">\n",
              "  <thead>\n",
              "    <tr style=\"text-align: right;\">\n",
              "      <th></th>\n",
              "      <th>Origin</th>\n",
              "    </tr>\n",
              "  </thead>\n",
              "  <tbody>\n",
              "    <tr>\n",
              "      <th>145</th>\n",
              "      <td>Germany</td>\n",
              "    </tr>\n",
              "    <tr>\n",
              "      <th>151</th>\n",
              "      <td>USA</td>\n",
              "    </tr>\n",
              "    <tr>\n",
              "      <th>388</th>\n",
              "      <td>India</td>\n",
              "    </tr>\n",
              "    <tr>\n",
              "      <th>48</th>\n",
              "      <td>India</td>\n",
              "    </tr>\n",
              "    <tr>\n",
              "      <th>114</th>\n",
              "      <td>USA</td>\n",
              "    </tr>\n",
              "    <tr>\n",
              "      <th>...</th>\n",
              "      <td>...</td>\n",
              "    </tr>\n",
              "    <tr>\n",
              "      <th>147</th>\n",
              "      <td>USA</td>\n",
              "    </tr>\n",
              "    <tr>\n",
              "      <th>156</th>\n",
              "      <td>India</td>\n",
              "    </tr>\n",
              "    <tr>\n",
              "      <th>395</th>\n",
              "      <td>India</td>\n",
              "    </tr>\n",
              "    <tr>\n",
              "      <th>14</th>\n",
              "      <td>Germany</td>\n",
              "    </tr>\n",
              "    <tr>\n",
              "      <th>362</th>\n",
              "      <td>Germany</td>\n",
              "    </tr>\n",
              "  </tbody>\n",
              "</table>\n",
              "<p>318 rows × 1 columns</p>\n",
              "</div>"
            ],
            "text/plain": [
              "      Origin\n",
              "145  Germany\n",
              "151      USA\n",
              "388    India\n",
              "48     India\n",
              "114      USA\n",
              "..       ...\n",
              "147      USA\n",
              "156    India\n",
              "395    India\n",
              "14   Germany\n",
              "362  Germany\n",
              "\n",
              "[318 rows x 1 columns]"
            ]
          },
          "metadata": {
            "tags": []
          },
          "execution_count": 16
        }
      ]
    },
    {
      "cell_type": "code",
      "metadata": {
        "id": "qkB_jdbO1XSl",
        "colab_type": "code",
        "colab": {
          "base_uri": "https://localhost:8080/",
          "height": 195
        },
        "outputId": "0b4fa4cf-524d-43be-9f39-37dee4127029"
      },
      "source": [
        "train_set = pd.get_dummies(strat_train_set, prefix='', prefix_sep='')\n",
        "train_set.head()"
      ],
      "execution_count": 17,
      "outputs": [
        {
          "output_type": "execute_result",
          "data": {
            "text/html": [
              "<div>\n",
              "<style scoped>\n",
              "    .dataframe tbody tr th:only-of-type {\n",
              "        vertical-align: middle;\n",
              "    }\n",
              "\n",
              "    .dataframe tbody tr th {\n",
              "        vertical-align: top;\n",
              "    }\n",
              "\n",
              "    .dataframe thead th {\n",
              "        text-align: right;\n",
              "    }\n",
              "</style>\n",
              "<table border=\"1\" class=\"dataframe\">\n",
              "  <thead>\n",
              "    <tr style=\"text-align: right;\">\n",
              "      <th></th>\n",
              "      <th>MPG</th>\n",
              "      <th>Cylinders</th>\n",
              "      <th>Displacement</th>\n",
              "      <th>Horsepower</th>\n",
              "      <th>Weight</th>\n",
              "      <th>Acceleration</th>\n",
              "      <th>Model Year</th>\n",
              "      <th>Origin</th>\n",
              "    </tr>\n",
              "  </thead>\n",
              "  <tbody>\n",
              "    <tr>\n",
              "      <th>145</th>\n",
              "      <td>32.0</td>\n",
              "      <td>4</td>\n",
              "      <td>83.0</td>\n",
              "      <td>61.0</td>\n",
              "      <td>2003.0</td>\n",
              "      <td>19.0</td>\n",
              "      <td>74</td>\n",
              "      <td>3</td>\n",
              "    </tr>\n",
              "    <tr>\n",
              "      <th>151</th>\n",
              "      <td>31.0</td>\n",
              "      <td>4</td>\n",
              "      <td>79.0</td>\n",
              "      <td>67.0</td>\n",
              "      <td>2000.0</td>\n",
              "      <td>16.0</td>\n",
              "      <td>74</td>\n",
              "      <td>2</td>\n",
              "    </tr>\n",
              "    <tr>\n",
              "      <th>388</th>\n",
              "      <td>26.0</td>\n",
              "      <td>4</td>\n",
              "      <td>156.0</td>\n",
              "      <td>92.0</td>\n",
              "      <td>2585.0</td>\n",
              "      <td>14.5</td>\n",
              "      <td>82</td>\n",
              "      <td>1</td>\n",
              "    </tr>\n",
              "    <tr>\n",
              "      <th>48</th>\n",
              "      <td>18.0</td>\n",
              "      <td>6</td>\n",
              "      <td>250.0</td>\n",
              "      <td>88.0</td>\n",
              "      <td>3139.0</td>\n",
              "      <td>14.5</td>\n",
              "      <td>71</td>\n",
              "      <td>1</td>\n",
              "    </tr>\n",
              "    <tr>\n",
              "      <th>114</th>\n",
              "      <td>26.0</td>\n",
              "      <td>4</td>\n",
              "      <td>98.0</td>\n",
              "      <td>90.0</td>\n",
              "      <td>2265.0</td>\n",
              "      <td>15.5</td>\n",
              "      <td>73</td>\n",
              "      <td>2</td>\n",
              "    </tr>\n",
              "  </tbody>\n",
              "</table>\n",
              "</div>"
            ],
            "text/plain": [
              "      MPG  Cylinders  Displacement  ...  Acceleration  Model Year  Origin\n",
              "145  32.0          4          83.0  ...          19.0          74       3\n",
              "151  31.0          4          79.0  ...          16.0          74       2\n",
              "388  26.0          4         156.0  ...          14.5          82       1\n",
              "48   18.0          6         250.0  ...          14.5          71       1\n",
              "114  26.0          4          98.0  ...          15.5          73       2\n",
              "\n",
              "[5 rows x 8 columns]"
            ]
          },
          "metadata": {
            "tags": []
          },
          "execution_count": 17
        }
      ]
    },
    {
      "cell_type": "code",
      "metadata": {
        "id": "CKsihyNr2RLF",
        "colab_type": "code",
        "colab": {
          "base_uri": "https://localhost:8080/",
          "height": 235
        },
        "outputId": "8d45153b-3f3d-4a08-912f-017c19b873fc"
      },
      "source": [
        "data['displacement_on_power'] = data['Displacement'] / data['Horsepower']\n",
        "data['weight_on_cylinder'] = data['Weight'] / data['Cylinders']\n",
        "data['acceleration_on_power'] = data['Acceleration'] / data['Horsepower']\n",
        "data['acceleration_on_cyl'] = data['Acceleration'] / data['Cylinders']\n",
        "\n",
        "corr_matrix = data.corr()\n",
        "corr_matrix['MPG'].sort_values(ascending=False)"
      ],
      "execution_count": 18,
      "outputs": [
        {
          "output_type": "execute_result",
          "data": {
            "text/plain": [
              "MPG                      1.000000\n",
              "acceleration_on_cyl      0.732133\n",
              "acceleration_on_power    0.704240\n",
              "Model Year               0.579267\n",
              "Origin                   0.563450\n",
              "Acceleration             0.420289\n",
              "weight_on_cylinder      -0.020778\n",
              "displacement_on_power   -0.577236\n",
              "Horsepower              -0.773453\n",
              "Cylinders               -0.775396\n",
              "Displacement            -0.804203\n",
              "Weight                  -0.831741\n",
              "Name: MPG, dtype: float64"
            ]
          },
          "metadata": {
            "tags": []
          },
          "execution_count": 18
        }
      ]
    },
    {
      "cell_type": "code",
      "metadata": {
        "id": "jFM6Pleu2VTc",
        "colab_type": "code",
        "colab": {
          "base_uri": "https://localhost:8080/",
          "height": 101
        },
        "outputId": "70bb310a-035e-47d7-92df-e67eae02a177"
      },
      "source": [
        "cat_encoder = OneHotEncoder()\n",
        "data_cat_1hot = cat_encoder.fit_transform(data_cat)\n",
        "data_cat_1hot   # returns a sparse matrix\n",
        "\n",
        "data_cat_1hot.toarray()[:5]"
      ],
      "execution_count": 19,
      "outputs": [
        {
          "output_type": "execute_result",
          "data": {
            "text/plain": [
              "array([[1., 0., 0.],\n",
              "       [0., 0., 1.],\n",
              "       [0., 1., 0.],\n",
              "       [0., 1., 0.],\n",
              "       [0., 0., 1.]])"
            ]
          },
          "metadata": {
            "tags": []
          },
          "execution_count": 19
        }
      ]
    },
    {
      "cell_type": "code",
      "metadata": {
        "id": "Ggb9BR8m2dNr",
        "colab_type": "code",
        "colab": {
          "base_uri": "https://localhost:8080/",
          "height": 34
        },
        "outputId": "fa063d9b-1f59-4e43-e711-5b8384dadebf"
      },
      "source": [
        "cat_encoder.categories_"
      ],
      "execution_count": 20,
      "outputs": [
        {
          "output_type": "execute_result",
          "data": {
            "text/plain": [
              "[array(['Germany', 'India', 'USA'], dtype=object)]"
            ]
          },
          "metadata": {
            "tags": []
          },
          "execution_count": 20
        }
      ]
    },
    {
      "cell_type": "code",
      "metadata": {
        "id": "gc2aZJifMUk0",
        "colab_type": "code",
        "colab": {
          "base_uri": "https://localhost:8080/",
          "height": 319
        },
        "outputId": "de3e2e8a-849a-42d2-bb19-f68bd9430fbb"
      },
      "source": [
        "num_data = data.iloc[:, :-1]\n",
        "num_data.info()"
      ],
      "execution_count": 21,
      "outputs": [
        {
          "output_type": "stream",
          "text": [
            "<class 'pandas.core.frame.DataFrame'>\n",
            "RangeIndex: 398 entries, 0 to 397\n",
            "Data columns (total 11 columns):\n",
            " #   Column                 Non-Null Count  Dtype  \n",
            "---  ------                 --------------  -----  \n",
            " 0   MPG                    398 non-null    float64\n",
            " 1   Cylinders              398 non-null    int64  \n",
            " 2   Displacement           398 non-null    float64\n",
            " 3   Horsepower             398 non-null    float64\n",
            " 4   Weight                 398 non-null    float64\n",
            " 5   Acceleration           398 non-null    float64\n",
            " 6   Model Year             398 non-null    int64  \n",
            " 7   Origin                 398 non-null    int64  \n",
            " 8   displacement_on_power  398 non-null    float64\n",
            " 9   weight_on_cylinder     398 non-null    float64\n",
            " 10  acceleration_on_power  398 non-null    float64\n",
            "dtypes: float64(8), int64(3)\n",
            "memory usage: 34.3 KB\n"
          ],
          "name": "stdout"
        }
      ]
    },
    {
      "cell_type": "code",
      "metadata": {
        "id": "n5XaS4haM6XR",
        "colab_type": "code",
        "colab": {
          "base_uri": "https://localhost:8080/",
          "height": 50
        },
        "outputId": "413b794b-bb39-47b5-ef73-8e8fa3dd8d83"
      },
      "source": [
        "imputer = SimpleImputer(strategy=\"median\")\n",
        "imputer.fit(num_data)"
      ],
      "execution_count": 22,
      "outputs": [
        {
          "output_type": "execute_result",
          "data": {
            "text/plain": [
              "SimpleImputer(add_indicator=False, copy=True, fill_value=None,\n",
              "              missing_values=nan, strategy='median', verbose=0)"
            ]
          },
          "metadata": {
            "tags": []
          },
          "execution_count": 22
        }
      ]
    },
    {
      "cell_type": "code",
      "metadata": {
        "id": "T3OTO1XJNhZ0",
        "colab_type": "code",
        "colab": {
          "base_uri": "https://localhost:8080/",
          "height": 67
        },
        "outputId": "6fcf19f3-0dc5-409a-a5d0-1c4ab66f813d"
      },
      "source": [
        "imputer.statistics_"
      ],
      "execution_count": 23,
      "outputs": [
        {
          "output_type": "execute_result",
          "data": {
            "text/plain": [
              "array([2.30000000e+01, 4.00000000e+00, 1.48500000e+02, 9.35000000e+01,\n",
              "       2.80350000e+03, 1.55000000e+01, 7.60000000e+01, 1.00000000e+00,\n",
              "       1.67609819e+00, 5.41437500e+02, 1.70795455e-01])"
            ]
          },
          "metadata": {
            "tags": []
          },
          "execution_count": 23
        }
      ]
    },
    {
      "cell_type": "code",
      "metadata": {
        "id": "kZu8W3OiNjxN",
        "colab_type": "code",
        "colab": {
          "base_uri": "https://localhost:8080/",
          "height": 67
        },
        "outputId": "aba50dad-e561-4a7f-f610-efc39f2f3312"
      },
      "source": [
        "data.median().values"
      ],
      "execution_count": 24,
      "outputs": [
        {
          "output_type": "execute_result",
          "data": {
            "text/plain": [
              "array([2.30000000e+01, 4.00000000e+00, 1.48500000e+02, 9.35000000e+01,\n",
              "       2.80350000e+03, 1.55000000e+01, 7.60000000e+01, 1.00000000e+00,\n",
              "       1.67609819e+00, 5.41437500e+02, 1.70795455e-01, 3.50000000e+00])"
            ]
          },
          "metadata": {
            "tags": []
          },
          "execution_count": 24
        }
      ]
    },
    {
      "cell_type": "code",
      "metadata": {
        "id": "oOgG2UblNobL",
        "colab_type": "code",
        "colab": {
          "base_uri": "https://localhost:8080/",
          "height": 235
        },
        "outputId": "ee53f7a7-32b1-4fc6-9bce-e56d3756f482"
      },
      "source": [
        "X = imputer.transform(num_data)\n",
        "X"
      ],
      "execution_count": 25,
      "outputs": [
        {
          "output_type": "execute_result",
          "data": {
            "text/plain": [
              "array([[1.80000000e+01, 8.00000000e+00, 3.07000000e+02, ...,\n",
              "        2.36153846e+00, 4.38000000e+02, 9.23076923e-02],\n",
              "       [1.50000000e+01, 8.00000000e+00, 3.50000000e+02, ...,\n",
              "        2.12121212e+00, 4.61625000e+02, 6.96969697e-02],\n",
              "       [1.80000000e+01, 8.00000000e+00, 3.18000000e+02, ...,\n",
              "        2.12000000e+00, 4.29500000e+02, 7.33333333e-02],\n",
              "       ...,\n",
              "       [3.20000000e+01, 4.00000000e+00, 1.35000000e+02, ...,\n",
              "        1.60714286e+00, 5.73750000e+02, 1.38095238e-01],\n",
              "       [2.80000000e+01, 4.00000000e+00, 1.20000000e+02, ...,\n",
              "        1.51898734e+00, 6.56250000e+02, 2.35443038e-01],\n",
              "       [3.10000000e+01, 4.00000000e+00, 1.19000000e+02, ...,\n",
              "        1.45121951e+00, 6.80000000e+02, 2.36585366e-01]])"
            ]
          },
          "metadata": {
            "tags": []
          },
          "execution_count": 25
        }
      ]
    },
    {
      "cell_type": "code",
      "metadata": {
        "id": "qszZtI4tNyqw",
        "colab_type": "code",
        "colab": {
          "base_uri": "https://localhost:8080/",
          "height": 319
        },
        "outputId": "42ade2f3-9e99-45f1-9a5e-33bc74de17be"
      },
      "source": [
        "data_tr = pd.DataFrame(X, columns=num_data.columns, index=num_data.index)\n",
        "data_tr.info()"
      ],
      "execution_count": 26,
      "outputs": [
        {
          "output_type": "stream",
          "text": [
            "<class 'pandas.core.frame.DataFrame'>\n",
            "RangeIndex: 398 entries, 0 to 397\n",
            "Data columns (total 11 columns):\n",
            " #   Column                 Non-Null Count  Dtype  \n",
            "---  ------                 --------------  -----  \n",
            " 0   MPG                    398 non-null    float64\n",
            " 1   Cylinders              398 non-null    float64\n",
            " 2   Displacement           398 non-null    float64\n",
            " 3   Horsepower             398 non-null    float64\n",
            " 4   Weight                 398 non-null    float64\n",
            " 5   Acceleration           398 non-null    float64\n",
            " 6   Model Year             398 non-null    float64\n",
            " 7   Origin                 398 non-null    float64\n",
            " 8   displacement_on_power  398 non-null    float64\n",
            " 9   weight_on_cylinder     398 non-null    float64\n",
            " 10  acceleration_on_power  398 non-null    float64\n",
            "dtypes: float64(11)\n",
            "memory usage: 34.3 KB\n"
          ],
          "name": "stdout"
        }
      ]
    },
    {
      "cell_type": "code",
      "metadata": {
        "id": "snN1r4AYOI3L",
        "colab_type": "code",
        "colab": {
          "base_uri": "https://localhost:8080/",
          "height": 232
        },
        "outputId": "f786cbf2-d109-4706-d2b2-eb0c12585808"
      },
      "source": [
        "num_data.head()"
      ],
      "execution_count": 27,
      "outputs": [
        {
          "output_type": "execute_result",
          "data": {
            "text/html": [
              "<div>\n",
              "<style scoped>\n",
              "    .dataframe tbody tr th:only-of-type {\n",
              "        vertical-align: middle;\n",
              "    }\n",
              "\n",
              "    .dataframe tbody tr th {\n",
              "        vertical-align: top;\n",
              "    }\n",
              "\n",
              "    .dataframe thead th {\n",
              "        text-align: right;\n",
              "    }\n",
              "</style>\n",
              "<table border=\"1\" class=\"dataframe\">\n",
              "  <thead>\n",
              "    <tr style=\"text-align: right;\">\n",
              "      <th></th>\n",
              "      <th>MPG</th>\n",
              "      <th>Cylinders</th>\n",
              "      <th>Displacement</th>\n",
              "      <th>Horsepower</th>\n",
              "      <th>Weight</th>\n",
              "      <th>Acceleration</th>\n",
              "      <th>Model Year</th>\n",
              "      <th>Origin</th>\n",
              "      <th>displacement_on_power</th>\n",
              "      <th>weight_on_cylinder</th>\n",
              "      <th>acceleration_on_power</th>\n",
              "    </tr>\n",
              "  </thead>\n",
              "  <tbody>\n",
              "    <tr>\n",
              "      <th>0</th>\n",
              "      <td>18.0</td>\n",
              "      <td>8</td>\n",
              "      <td>307.0</td>\n",
              "      <td>130.0</td>\n",
              "      <td>3504.0</td>\n",
              "      <td>12.0</td>\n",
              "      <td>70</td>\n",
              "      <td>1</td>\n",
              "      <td>2.361538</td>\n",
              "      <td>438.000</td>\n",
              "      <td>0.092308</td>\n",
              "    </tr>\n",
              "    <tr>\n",
              "      <th>1</th>\n",
              "      <td>15.0</td>\n",
              "      <td>8</td>\n",
              "      <td>350.0</td>\n",
              "      <td>165.0</td>\n",
              "      <td>3693.0</td>\n",
              "      <td>11.5</td>\n",
              "      <td>70</td>\n",
              "      <td>1</td>\n",
              "      <td>2.121212</td>\n",
              "      <td>461.625</td>\n",
              "      <td>0.069697</td>\n",
              "    </tr>\n",
              "    <tr>\n",
              "      <th>2</th>\n",
              "      <td>18.0</td>\n",
              "      <td>8</td>\n",
              "      <td>318.0</td>\n",
              "      <td>150.0</td>\n",
              "      <td>3436.0</td>\n",
              "      <td>11.0</td>\n",
              "      <td>70</td>\n",
              "      <td>1</td>\n",
              "      <td>2.120000</td>\n",
              "      <td>429.500</td>\n",
              "      <td>0.073333</td>\n",
              "    </tr>\n",
              "    <tr>\n",
              "      <th>3</th>\n",
              "      <td>16.0</td>\n",
              "      <td>8</td>\n",
              "      <td>304.0</td>\n",
              "      <td>150.0</td>\n",
              "      <td>3433.0</td>\n",
              "      <td>12.0</td>\n",
              "      <td>70</td>\n",
              "      <td>1</td>\n",
              "      <td>2.026667</td>\n",
              "      <td>429.125</td>\n",
              "      <td>0.080000</td>\n",
              "    </tr>\n",
              "    <tr>\n",
              "      <th>4</th>\n",
              "      <td>17.0</td>\n",
              "      <td>8</td>\n",
              "      <td>302.0</td>\n",
              "      <td>140.0</td>\n",
              "      <td>3449.0</td>\n",
              "      <td>10.5</td>\n",
              "      <td>70</td>\n",
              "      <td>1</td>\n",
              "      <td>2.157143</td>\n",
              "      <td>431.125</td>\n",
              "      <td>0.075000</td>\n",
              "    </tr>\n",
              "  </tbody>\n",
              "</table>\n",
              "</div>"
            ],
            "text/plain": [
              "    MPG  Cylinders  ...  weight_on_cylinder  acceleration_on_power\n",
              "0  18.0          8  ...             438.000               0.092308\n",
              "1  15.0          8  ...             461.625               0.069697\n",
              "2  18.0          8  ...             429.500               0.073333\n",
              "3  16.0          8  ...             429.125               0.080000\n",
              "4  17.0          8  ...             431.125               0.075000\n",
              "\n",
              "[5 rows x 11 columns]"
            ]
          },
          "metadata": {
            "tags": []
          },
          "execution_count": 27
        }
      ]
    },
    {
      "cell_type": "code",
      "metadata": {
        "id": "jLB9owwVO7b5",
        "colab_type": "code",
        "colab": {
          "base_uri": "https://localhost:8080/",
          "height": 84
        },
        "outputId": "4c3827c2-edaf-4533-e905-2e557c4db433"
      },
      "source": [
        "acc_ix, hpower_ix, cyl_ix = 4, 2, 0\n",
        "\n",
        "class CustomAttrAdder(BaseEstimator, TransformerMixin):\n",
        "    def __init__(self, acc_on_power=True):\n",
        "        self.acc_on_power = acc_on_power  # new optional variable\n",
        "    def fit(self, X, y=None):\n",
        "        return self  # nothing else to do\n",
        "    def transform(self, X):\n",
        "        acc_on_cyl = X[:, acc_ix] / X[:, cyl_ix] # required new variable\n",
        "        if self.acc_on_power:\n",
        "            acc_on_power = X[:, acc_ix] / X[:, hpower_ix]\n",
        "            return np.c_[X, acc_on_power, acc_on_cyl] # returns a 2D array\n",
        "        \n",
        "        return np.c_[X, acc_on_cyl]\n",
        "    \n",
        "attr_adder = CustomAttrAdder(acc_on_power=True)\n",
        "data_tr_extra_attrs = attr_adder.transform(data_tr.values)\n",
        "data_tr_extra_attrs[0]"
      ],
      "execution_count": 28,
      "outputs": [
        {
          "output_type": "execute_result",
          "data": {
            "text/plain": [
              "array([1.80000000e+01, 8.00000000e+00, 3.07000000e+02, 1.30000000e+02,\n",
              "       3.50400000e+03, 1.20000000e+01, 7.00000000e+01, 1.00000000e+00,\n",
              "       2.36153846e+00, 4.38000000e+02, 9.23076923e-02, 1.14136808e+01,\n",
              "       1.94666667e+02])"
            ]
          },
          "metadata": {
            "tags": []
          },
          "execution_count": 28
        }
      ]
    },
    {
      "cell_type": "code",
      "metadata": {
        "id": "QD63JsW5PXsD",
        "colab_type": "code",
        "colab": {}
      },
      "source": [
        "def num_pipeline_transformer(data):\n",
        "    numerics = ['float64', 'int64']\n",
        "\n",
        "    num_attrs = data.select_dtypes(include=numerics)\n",
        "\n",
        "    num_pipeline = Pipeline([\n",
        "        ('imputer', SimpleImputer(strategy=\"median\")),\n",
        "        ('attrs_adder', CustomAttrAdder()),\n",
        "        ('std_scaler', StandardScaler()),\n",
        "        ])\n",
        "    return num_attrs, num_pipeline"
      ],
      "execution_count": 29,
      "outputs": []
    },
    {
      "cell_type": "code",
      "metadata": {
        "id": "GRdb73C0Pa3_",
        "colab_type": "code",
        "colab": {}
      },
      "source": [
        "def pipeline_transformer(data):\n",
        "    cat_attrs = [\"Origin\"]\n",
        "    num_attrs, num_pipeline = num_pipeline_transformer(data)\n",
        "    full_pipeline = ColumnTransformer([\n",
        "        (\"num\", num_pipeline, list(num_attrs)),\n",
        "        (\"cat\", OneHotEncoder(), cat_attrs),\n",
        "        ])\n",
        "    prepared_data = full_pipeline.fit_transform(data)\n",
        "    return prepared_data"
      ],
      "execution_count": 30,
      "outputs": []
    },
    {
      "cell_type": "code",
      "metadata": {
        "id": "YilstNw9Pf8R",
        "colab_type": "code",
        "colab": {}
      },
      "source": [
        "def preprocess_origin_cols(df):\n",
        "    df[\"Origin\"] = df[\"Origin\"].map({1: \"India\", 2: \"USA\", 3: \"Germany\"})    \n",
        "    return df"
      ],
      "execution_count": 31,
      "outputs": []
    },
    {
      "cell_type": "code",
      "metadata": {
        "id": "nTslyu0IPija",
        "colab_type": "code",
        "colab": {
          "base_uri": "https://localhost:8080/",
          "height": 235
        },
        "outputId": "083670b5-e94c-4466-b469-9c342da0422b"
      },
      "source": [
        "data = df.copy()\n",
        "data = strat_train_set.drop(\"MPG\", axis=1)\n",
        "data_labels = strat_train_set[\"MPG\"].copy()\n",
        "\n",
        "preprocessed_df = preprocess_origin_cols(data)\n",
        "prepared_data = pipeline_transformer(preprocessed_df)\n",
        "prepared_data"
      ],
      "execution_count": 32,
      "outputs": [
        {
          "output_type": "execute_result",
          "data": {
            "text/plain": [
              "array([[-0.85657842, -1.07804475, -1.15261228, ...,  1.        ,\n",
              "         0.        ,  0.        ],\n",
              "       [-0.85657842, -1.1174582 , -0.99069325, ...,  0.        ,\n",
              "         0.        ,  1.        ],\n",
              "       [-0.85657842, -0.3587492 , -0.31603064, ...,  0.        ,\n",
              "         1.        ,  0.        ],\n",
              "       ...,\n",
              "       [-0.85657842, -0.56566984, -0.53192268, ...,  0.        ,\n",
              "         1.        ,  0.        ],\n",
              "       [-0.85657842, -0.78244384, -0.23507113, ...,  1.        ,\n",
              "         0.        ,  0.        ],\n",
              "       [ 0.32260746, -0.45728283,  0.43959149, ...,  1.        ,\n",
              "         0.        ,  0.        ]])"
            ]
          },
          "metadata": {
            "tags": []
          },
          "execution_count": 32
        }
      ]
    },
    {
      "cell_type": "code",
      "metadata": {
        "id": "JeQWwTuJPlTv",
        "colab_type": "code",
        "colab": {
          "base_uri": "https://localhost:8080/",
          "height": 67
        },
        "outputId": "93117605-34bc-4f84-d8d3-f91964bac8fc"
      },
      "source": [
        "prepared_data[0]"
      ],
      "execution_count": 33,
      "outputs": [
        {
          "output_type": "execute_result",
          "data": {
            "text/plain": [
              "array([-0.85657842, -1.07804475, -1.15261228, -1.17220298,  1.21586943,\n",
              "       -0.54436373,  1.71003081,  1.29565517,  1.        ,  0.        ,\n",
              "        0.        ])"
            ]
          },
          "metadata": {
            "tags": []
          },
          "execution_count": 33
        }
      ]
    },
    {
      "cell_type": "code",
      "metadata": {
        "id": "2q8cpVk4U4p2",
        "colab_type": "code",
        "colab": {
          "base_uri": "https://localhost:8080/",
          "height": 34
        },
        "outputId": "dbdcd9c2-56b2-4304-d815-7a0a52b0c463"
      },
      "source": [
        "lin_reg = LinearRegression()\n",
        "lin_reg.fit(prepared_data, data_labels)"
      ],
      "execution_count": 34,
      "outputs": [
        {
          "output_type": "execute_result",
          "data": {
            "text/plain": [
              "LinearRegression(copy_X=True, fit_intercept=True, n_jobs=None, normalize=False)"
            ]
          },
          "metadata": {
            "tags": []
          },
          "execution_count": 34
        }
      ]
    },
    {
      "cell_type": "code",
      "metadata": {
        "id": "NVUoiIkdVBwt",
        "colab_type": "code",
        "colab": {
          "base_uri": "https://localhost:8080/",
          "height": 34
        },
        "outputId": "72068823-fdd0-4326-f141-c399051da943"
      },
      "source": [
        "sample_data = data.iloc[:5]\n",
        "sample_labels = data_labels.iloc[:5]\n",
        "sample_data_prepared = pipeline_transformer(sample_data)\n",
        "\n",
        "print(\"Prediction of samples: \", lin_reg.predict(sample_data_prepared))"
      ],
      "execution_count": 35,
      "outputs": [
        {
          "output_type": "stream",
          "text": [
            "Prediction of samples:  [29.07706113 27.78221362 26.08507595 12.68921922 22.24811759]\n"
          ],
          "name": "stdout"
        }
      ]
    },
    {
      "cell_type": "code",
      "metadata": {
        "id": "jTn3-2c3WH9C",
        "colab_type": "code",
        "colab": {
          "base_uri": "https://localhost:8080/",
          "height": 34
        },
        "outputId": "cdce81e7-f0ac-40d0-8b12-6453eedc5e55"
      },
      "source": [
        "print(\"Actual Labels of samples: \", list(sample_labels))"
      ],
      "execution_count": 36,
      "outputs": [
        {
          "output_type": "stream",
          "text": [
            "Actual Labels of samples:  [32.0, 31.0, 26.0, 18.0, 26.0]\n"
          ],
          "name": "stdout"
        }
      ]
    },
    {
      "cell_type": "code",
      "metadata": {
        "id": "kNWtfCBAWc1I",
        "colab_type": "code",
        "colab": {
          "base_uri": "https://localhost:8080/",
          "height": 34
        },
        "outputId": "5b70c2cf-8dd4-4c43-d214-42bc29c8353d"
      },
      "source": [
        "mpg_predictions = lin_reg.predict(prepared_data)\n",
        "lin_mse = mean_squared_error(data_labels, mpg_predictions)\n",
        "lin_rmse = np.sqrt(lin_mse)\n",
        "lin_rmse"
      ],
      "execution_count": 37,
      "outputs": [
        {
          "output_type": "execute_result",
          "data": {
            "text/plain": [
              "2.9599557382767734"
            ]
          },
          "metadata": {
            "tags": []
          },
          "execution_count": 37
        }
      ]
    },
    {
      "cell_type": "code",
      "metadata": {
        "id": "IEwN8v0dWhn2",
        "colab_type": "code",
        "colab": {
          "base_uri": "https://localhost:8080/",
          "height": 118
        },
        "outputId": "e6506fdd-3966-4607-ae8b-f7d15f4a5f8e"
      },
      "source": [
        "tree_reg = DecisionTreeRegressor()\n",
        "tree_reg.fit(prepared_data, data_labels)"
      ],
      "execution_count": 38,
      "outputs": [
        {
          "output_type": "execute_result",
          "data": {
            "text/plain": [
              "DecisionTreeRegressor(ccp_alpha=0.0, criterion='mse', max_depth=None,\n",
              "                      max_features=None, max_leaf_nodes=None,\n",
              "                      min_impurity_decrease=0.0, min_impurity_split=None,\n",
              "                      min_samples_leaf=1, min_samples_split=2,\n",
              "                      min_weight_fraction_leaf=0.0, presort='deprecated',\n",
              "                      random_state=None, splitter='best')"
            ]
          },
          "metadata": {
            "tags": []
          },
          "execution_count": 38
        }
      ]
    },
    {
      "cell_type": "code",
      "metadata": {
        "id": "TxbTkjswWtJr",
        "colab_type": "code",
        "colab": {
          "base_uri": "https://localhost:8080/",
          "height": 34
        },
        "outputId": "964f4843-66e3-4388-d907-3e0ce7c735c9"
      },
      "source": [
        "mpg_predictions = tree_reg.predict(prepared_data)\n",
        "tree_mse = mean_squared_error(data_labels, mpg_predictions)\n",
        "tree_rmse = np.sqrt(tree_mse)\n",
        "tree_rmse"
      ],
      "execution_count": 39,
      "outputs": [
        {
          "output_type": "execute_result",
          "data": {
            "text/plain": [
              "0.0"
            ]
          },
          "metadata": {
            "tags": []
          },
          "execution_count": 39
        }
      ]
    },
    {
      "cell_type": "code",
      "metadata": {
        "id": "tYRIO6mGWwTT",
        "colab_type": "code",
        "colab": {}
      },
      "source": [
        "scores = cross_val_score(tree_reg, \n",
        "                         prepared_data, \n",
        "                         data_labels, \n",
        "                         scoring=\"neg_mean_squared_error\", \n",
        "                         cv = 10)\n",
        "tree_reg_rmse_scores = np.sqrt(-scores)"
      ],
      "execution_count": 40,
      "outputs": []
    },
    {
      "cell_type": "code",
      "metadata": {
        "id": "eMvUhxExW1CX",
        "colab_type": "code",
        "colab": {
          "base_uri": "https://localhost:8080/",
          "height": 50
        },
        "outputId": "a9221e95-4b83-409b-cc81-6f229e3ee5b3"
      },
      "source": [
        "tree_reg_rmse_scores"
      ],
      "execution_count": 41,
      "outputs": [
        {
          "output_type": "execute_result",
          "data": {
            "text/plain": [
              "array([2.9389624 , 3.02220946, 2.85739173, 3.34121984, 2.40305795,\n",
              "       3.06334172, 3.85296152, 4.50124983, 4.10098336, 2.44810658])"
            ]
          },
          "metadata": {
            "tags": []
          },
          "execution_count": 41
        }
      ]
    },
    {
      "cell_type": "code",
      "metadata": {
        "id": "NB2m_F3qW3Q2",
        "colab_type": "code",
        "colab": {
          "base_uri": "https://localhost:8080/",
          "height": 34
        },
        "outputId": "c5dab908-2f83-4fbe-c7b5-4b0f5ef566f6"
      },
      "source": [
        "tree_reg_rmse_scores.mean()"
      ],
      "execution_count": 42,
      "outputs": [
        {
          "output_type": "execute_result",
          "data": {
            "text/plain": [
              "3.252948437990716"
            ]
          },
          "metadata": {
            "tags": []
          },
          "execution_count": 42
        }
      ]
    },
    {
      "cell_type": "code",
      "metadata": {
        "id": "OBUqowZ5W5yt",
        "colab_type": "code",
        "colab": {
          "base_uri": "https://localhost:8080/",
          "height": 50
        },
        "outputId": "a219f657-7cfc-4627-dc17-8b031aafbb7c"
      },
      "source": [
        "scores = cross_val_score(lin_reg, prepared_data, data_labels, scoring=\"neg_mean_squared_error\", cv = 10)\n",
        "lin_reg_rmse_scores = np.sqrt(-scores)\n",
        "lin_reg_rmse_scores"
      ],
      "execution_count": 43,
      "outputs": [
        {
          "output_type": "execute_result",
          "data": {
            "text/plain": [
              "array([3.43029715, 3.45041922, 3.66364877, 2.59538773, 2.48739898,\n",
              "       2.746598  , 3.32560073, 2.42211361, 3.78139392, 2.86493978])"
            ]
          },
          "metadata": {
            "tags": []
          },
          "execution_count": 43
        }
      ]
    },
    {
      "cell_type": "code",
      "metadata": {
        "id": "9DFvOVDeW8W9",
        "colab_type": "code",
        "colab": {
          "base_uri": "https://localhost:8080/",
          "height": 34
        },
        "outputId": "05dead06-2f76-4a44-a1b5-df95f12588f6"
      },
      "source": [
        "lin_reg_rmse_scores.mean()"
      ],
      "execution_count": 44,
      "outputs": [
        {
          "output_type": "execute_result",
          "data": {
            "text/plain": [
              "3.076779788960899"
            ]
          },
          "metadata": {
            "tags": []
          },
          "execution_count": 44
        }
      ]
    },
    {
      "cell_type": "code",
      "metadata": {
        "id": "ooUI1yvZW-gY",
        "colab_type": "code",
        "colab": {
          "base_uri": "https://localhost:8080/",
          "height": 34
        },
        "outputId": "1acf63d6-9b7d-413a-9829-1aed43a5a0fd"
      },
      "source": [
        "forest_reg = RandomForestRegressor()\n",
        "forest_reg.fit(prepared_data, data_labels)\n",
        "forest_reg_cv_scores = cross_val_score(forest_reg,\n",
        "                                         prepared_data,\n",
        "                                         data_labels,\n",
        "                                         scoring='neg_mean_squared_error',\n",
        "                                         cv = 10)\n",
        "\n",
        "forest_reg_rmse_scores = np.sqrt(-forest_reg_cv_scores)\n",
        "forest_reg_rmse_scores.mean()"
      ],
      "execution_count": 45,
      "outputs": [
        {
          "output_type": "execute_result",
          "data": {
            "text/plain": [
              "2.5731773192614273"
            ]
          },
          "metadata": {
            "tags": []
          },
          "execution_count": 45
        }
      ]
    },
    {
      "cell_type": "code",
      "metadata": {
        "id": "xV5ve0OTXBRU",
        "colab_type": "code",
        "colab": {
          "base_uri": "https://localhost:8080/",
          "height": 34
        },
        "outputId": "edcbcae4-34cf-4839-dde3-159fdc398806"
      },
      "source": [
        "from sklearn.svm import SVR\n",
        "\n",
        "svm_reg = SVR(kernel='linear')\n",
        "svm_reg.fit(prepared_data, data_labels)\n",
        "svm_cv_scores = cross_val_score(svm_reg, prepared_data, data_labels,\n",
        "                                scoring='neg_mean_squared_error',\n",
        "                                cv = 10)\n",
        "svm_rmse_scores = np.sqrt(-svm_cv_scores)\n",
        "svm_rmse_scores.mean()"
      ],
      "execution_count": 46,
      "outputs": [
        {
          "output_type": "execute_result",
          "data": {
            "text/plain": [
              "3.088411910825019"
            ]
          },
          "metadata": {
            "tags": []
          },
          "execution_count": 46
        }
      ]
    },
    {
      "cell_type": "code",
      "metadata": {
        "id": "-6UiQPhKXEW_",
        "colab_type": "code",
        "colab": {
          "base_uri": "https://localhost:8080/",
          "height": 370
        },
        "outputId": "777e180e-9e0c-47d0-95cb-bbbade8e290b"
      },
      "source": [
        "param_grid = [\n",
        "    {'n_estimators': [3, 10, 30], 'max_features': [2, 4, 6, 8]},\n",
        "    {'bootstrap': [False], 'n_estimators': [3, 10], 'max_features': [2, 3, 4]},\n",
        "  ]\n",
        "\n",
        "forest_reg = RandomForestRegressor()\n",
        "\n",
        "grid_search = GridSearchCV(forest_reg, param_grid,\n",
        "                           scoring='neg_mean_squared_error',\n",
        "                           return_train_score=True,\n",
        "                           cv=10,\n",
        "                          )\n",
        "\n",
        "grid_search.fit(prepared_data, data_labels)"
      ],
      "execution_count": 47,
      "outputs": [
        {
          "output_type": "execute_result",
          "data": {
            "text/plain": [
              "GridSearchCV(cv=10, error_score=nan,\n",
              "             estimator=RandomForestRegressor(bootstrap=True, ccp_alpha=0.0,\n",
              "                                             criterion='mse', max_depth=None,\n",
              "                                             max_features='auto',\n",
              "                                             max_leaf_nodes=None,\n",
              "                                             max_samples=None,\n",
              "                                             min_impurity_decrease=0.0,\n",
              "                                             min_impurity_split=None,\n",
              "                                             min_samples_leaf=1,\n",
              "                                             min_samples_split=2,\n",
              "                                             min_weight_fraction_leaf=0.0,\n",
              "                                             n_estimators=100, n_jobs=None,\n",
              "                                             oob_score=False, random_state=None,\n",
              "                                             verbose=0, warm_start=False),\n",
              "             iid='deprecated', n_jobs=None,\n",
              "             param_grid=[{'max_features': [2, 4, 6, 8],\n",
              "                          'n_estimators': [3, 10, 30]},\n",
              "                         {'bootstrap': [False], 'max_features': [2, 3, 4],\n",
              "                          'n_estimators': [3, 10]}],\n",
              "             pre_dispatch='2*n_jobs', refit=True, return_train_score=True,\n",
              "             scoring='neg_mean_squared_error', verbose=0)"
            ]
          },
          "metadata": {
            "tags": []
          },
          "execution_count": 47
        }
      ]
    },
    {
      "cell_type": "code",
      "metadata": {
        "id": "9kqosUeFXHQo",
        "colab_type": "code",
        "colab": {
          "base_uri": "https://localhost:8080/",
          "height": 34
        },
        "outputId": "1a32b3d2-a26c-4f26-bc5e-c7a6f7db05f8"
      },
      "source": [
        "grid_search.best_params_"
      ],
      "execution_count": 48,
      "outputs": [
        {
          "output_type": "execute_result",
          "data": {
            "text/plain": [
              "{'max_features': 6, 'n_estimators': 30}"
            ]
          },
          "metadata": {
            "tags": []
          },
          "execution_count": 48
        }
      ]
    },
    {
      "cell_type": "code",
      "metadata": {
        "id": "lTvTA3RnXLNf",
        "colab_type": "code",
        "colab": {
          "base_uri": "https://localhost:8080/",
          "height": 319
        },
        "outputId": "cda71577-1e4c-45d7-946f-d7eaa4785251"
      },
      "source": [
        "cv_scores = grid_search.cv_results_\n",
        "\n",
        "##printing all the parameters along with their scores\n",
        "for mean_score, params in zip(cv_scores['mean_test_score'], cv_scores[\"params\"]):\n",
        "    print(np.sqrt(-mean_score), params)"
      ],
      "execution_count": 49,
      "outputs": [
        {
          "output_type": "stream",
          "text": [
            "3.5749674002824747 {'max_features': 2, 'n_estimators': 3}\n",
            "2.912095806440285 {'max_features': 2, 'n_estimators': 10}\n",
            "2.893886505940237 {'max_features': 2, 'n_estimators': 30}\n",
            "3.1838144586593704 {'max_features': 4, 'n_estimators': 3}\n",
            "2.795174658401106 {'max_features': 4, 'n_estimators': 10}\n",
            "2.778420590519474 {'max_features': 4, 'n_estimators': 30}\n",
            "3.1068214814729758 {'max_features': 6, 'n_estimators': 3}\n",
            "2.7890714017884504 {'max_features': 6, 'n_estimators': 10}\n",
            "2.7008621974367766 {'max_features': 6, 'n_estimators': 30}\n",
            "3.2683398652695828 {'max_features': 8, 'n_estimators': 3}\n",
            "2.7025941185753486 {'max_features': 8, 'n_estimators': 10}\n",
            "2.734003215431403 {'max_features': 8, 'n_estimators': 30}\n",
            "3.328368984738067 {'bootstrap': False, 'max_features': 2, 'n_estimators': 3}\n",
            "2.8366572483749364 {'bootstrap': False, 'max_features': 2, 'n_estimators': 10}\n",
            "3.181913492963394 {'bootstrap': False, 'max_features': 3, 'n_estimators': 3}\n",
            "2.9283872360798675 {'bootstrap': False, 'max_features': 3, 'n_estimators': 10}\n",
            "3.1291943178481336 {'bootstrap': False, 'max_features': 4, 'n_estimators': 3}\n",
            "2.828292244653893 {'bootstrap': False, 'max_features': 4, 'n_estimators': 10}\n"
          ],
          "name": "stdout"
        }
      ]
    },
    {
      "cell_type": "code",
      "metadata": {
        "id": "OJUFgyEGXOGI",
        "colab_type": "code",
        "colab": {
          "base_uri": "https://localhost:8080/",
          "height": 67
        },
        "outputId": "cbf6b365-641d-4cdf-c595-29487a89d02e"
      },
      "source": [
        "feature_importances = grid_search.best_estimator_.feature_importances_\n",
        "feature_importances"
      ],
      "execution_count": 50,
      "outputs": [
        {
          "output_type": "execute_result",
          "data": {
            "text/plain": [
              "array([0.13761906, 0.26782471, 0.10235644, 0.23828385, 0.01536688,\n",
              "       0.1139684 , 0.02927311, 0.08904439, 0.00246887, 0.00144035,\n",
              "       0.00235392])"
            ]
          },
          "metadata": {
            "tags": []
          },
          "execution_count": 50
        }
      ]
    },
    {
      "cell_type": "code",
      "metadata": {
        "id": "5-c0PLZUXQ-S",
        "colab_type": "code",
        "colab": {
          "base_uri": "https://localhost:8080/",
          "height": 151
        },
        "outputId": "07ea3ead-45e8-4903-8cf8-eaf07b2c8b4a"
      },
      "source": [
        "extra_attrs = [\"acc_on_power\", \"acc_on_cyl\"]\n",
        "numerics = ['float64', 'int64']\n",
        "num_attrs = list(data.select_dtypes(include=numerics))\n",
        "\n",
        "attrs = num_attrs + extra_attrs\n",
        "sorted(zip(attrs, feature_importances), reverse=True)"
      ],
      "execution_count": 51,
      "outputs": [
        {
          "output_type": "execute_result",
          "data": {
            "text/plain": [
              "[('acc_on_power', 0.029273113250636407),\n",
              " ('acc_on_cyl', 0.08904438621375999),\n",
              " ('Weight', 0.2382838509583553),\n",
              " ('Model Year', 0.11396839712174722),\n",
              " ('Horsepower', 0.10235644293958585),\n",
              " ('Displacement', 0.26782471441674793),\n",
              " ('Cylinders', 0.13761905960081788),\n",
              " ('Acceleration', 0.015366884090132019)]"
            ]
          },
          "metadata": {
            "tags": []
          },
          "execution_count": 51
        }
      ]
    },
    {
      "cell_type": "code",
      "metadata": {
        "id": "niczcxziXTlf",
        "colab_type": "code",
        "colab": {}
      },
      "source": [
        "final_model = grid_search.best_estimator_\n",
        "\n",
        "X_test = strat_test_set.drop(\"MPG\", axis=1)\n",
        "y_test = strat_test_set[\"MPG\"].copy()\n",
        "\n",
        "X_test_preprocessed = preprocess_origin_cols(X_test)\n",
        "X_test_prepared = pipeline_transformer(X_test_preprocessed)\n",
        "\n",
        "final_predictions = final_model.predict(X_test_prepared)\n",
        "final_mse = mean_squared_error(y_test, final_predictions)\n",
        "final_rmse = np.sqrt(final_mse)"
      ],
      "execution_count": 52,
      "outputs": []
    },
    {
      "cell_type": "code",
      "metadata": {
        "id": "8FpY6lhCXW4l",
        "colab_type": "code",
        "colab": {
          "base_uri": "https://localhost:8080/",
          "height": 34
        },
        "outputId": "2678977a-1aeb-4155-c050-2d4df8615038"
      },
      "source": [
        "final_rmse"
      ],
      "execution_count": 53,
      "outputs": [
        {
          "output_type": "execute_result",
          "data": {
            "text/plain": [
              "2.8795921296831843"
            ]
          },
          "metadata": {
            "tags": []
          },
          "execution_count": 53
        }
      ]
    },
    {
      "cell_type": "code",
      "metadata": {
        "id": "Lc0Le7-uXZ13",
        "colab_type": "code",
        "colab": {}
      },
      "source": [
        "def predict_mpg(config, model):\n",
        "    \n",
        "    if type(config) == dict:\n",
        "        df = pd.DataFrame(config)\n",
        "    else:\n",
        "        df = config\n",
        "    \n",
        "    preproc_df = preprocess_origin_cols(df)\n",
        "    prepared_df = pipeline_transformer(preproc_df)\n",
        "    y_pred = model.predict(prepared_df)\n",
        "    return y_pred"
      ],
      "execution_count": 54,
      "outputs": []
    },
    {
      "cell_type": "code",
      "metadata": {
        "id": "BuVYTCWxXem5",
        "colab_type": "code",
        "colab": {
          "base_uri": "https://localhost:8080/",
          "height": 34
        },
        "outputId": "67bb7679-2217-402e-d6f4-698d9b484415"
      },
      "source": [
        "vehicle_config = {\n",
        "    'Cylinders': [4, 6, 8],\n",
        "    'Displacement': [155.0, 160.0, 165.5],\n",
        "    'Horsepower': [93.0, 130.0, 98.0],\n",
        "    'Weight': [2500.0, 3150.0, 2600.0],\n",
        "    'Acceleration': [15.0, 14.0, 16.0],\n",
        "    'Model Year': [81, 80, 78],\n",
        "    'Origin': [3, 2, 1]\n",
        "}\n",
        "\n",
        "predict_mpg(vehicle_config, final_model)"
      ],
      "execution_count": 55,
      "outputs": [
        {
          "output_type": "execute_result",
          "data": {
            "text/plain": [
              "array([33.33333333, 17.92      , 21.31      ])"
            ]
          },
          "metadata": {
            "tags": []
          },
          "execution_count": 55
        }
      ]
    },
    {
      "cell_type": "code",
      "metadata": {
        "id": "Q0nPygXzXhdS",
        "colab_type": "code",
        "colab": {}
      },
      "source": [
        "import pickle"
      ],
      "execution_count": 56,
      "outputs": []
    },
    {
      "cell_type": "code",
      "metadata": {
        "id": "lhfHm35oXlex",
        "colab_type": "code",
        "colab": {}
      },
      "source": [
        "with open(\"model.bin\", 'wb') as f_out:\n",
        "    pickle.dump(final_model, f_out)\n",
        "    f_out.close()"
      ],
      "execution_count": 57,
      "outputs": []
    },
    {
      "cell_type": "code",
      "metadata": {
        "id": "OqCm4S0PXoI-",
        "colab_type": "code",
        "colab": {
          "base_uri": "https://localhost:8080/",
          "height": 34
        },
        "outputId": "1bfa2a1f-6060-4b5f-f707-c7ba900e70df"
      },
      "source": [
        "with open('model.bin', 'rb') as f_in:\n",
        "    model = pickle.load(f_in)\n",
        "\n",
        "predict_mpg(vehicle_config, model)"
      ],
      "execution_count": 58,
      "outputs": [
        {
          "output_type": "execute_result",
          "data": {
            "text/plain": [
              "array([33.33333333, 17.92      , 21.31      ])"
            ]
          },
          "metadata": {
            "tags": []
          },
          "execution_count": 58
        }
      ]
    },
    {
      "cell_type": "code",
      "metadata": {
        "id": "_7VQsHLWXqpq",
        "colab_type": "code",
        "colab": {}
      },
      "source": [
        ""
      ],
      "execution_count": 58,
      "outputs": []
    },
    {
      "cell_type": "code",
      "metadata": {
        "id": "7XYg2_muhhzX",
        "colab_type": "code",
        "colab": {}
      },
      "source": [
        ""
      ],
      "execution_count": 58,
      "outputs": []
    }
  ]
}